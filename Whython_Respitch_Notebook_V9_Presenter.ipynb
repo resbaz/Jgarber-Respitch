{
 "cells": [
  {
   "cell_type": "code",
   "execution_count": 18,
   "metadata": {
    "slideshow": {
     "slide_type": "skip"
    }
   },
   "outputs": [],
   "source": [
    "# import urllib3\n",
    "import pickle\n",
    "import itertools\n",
    "import numpy as np\n",
    "from matplotlib import pyplot as plt\n",
    "# import certifi\n",
    "%matplotlib inline"
   ]
  },
  {
   "cell_type": "code",
   "execution_count": 6,
   "metadata": {
    "slideshow": {
     "slide_type": "skip"
    }
   },
   "outputs": [],
   "source": [
    "\n",
    "from ipywidgets import interact, fixed\n",
    "#note, interact wants you to reference all the inputs even if they are prefilled\n",
    "\n"
   ]
  },
  {
   "cell_type": "code",
   "execution_count": 7,
   "metadata": {
    "slideshow": {
     "slide_type": "skip"
    }
   },
   "outputs": [],
   "source": [
    "from Python_kitchen_tools import drug_plot\n",
    "\n"
   ]
  },
  {
   "cell_type": "code",
   "execution_count": 8,
   "metadata": {},
   "outputs": [],
   "source": [
    "import Python_kitchen_tools\n",
    "\n",
    "drug_use, drugs = Python_kitchen_tools.load_drug_data()"
   ]
  },
  {
   "cell_type": "code",
   "execution_count": 9,
   "metadata": {},
   "outputs": [
    {
     "data": {
      "application/vnd.jupyter.widget-view+json": {
       "model_id": "95f0885d21b149cebe7b6f2ee76aec8f",
       "version_major": 2,
       "version_minor": 0
      },
      "text/plain": [
       "interactive(children=(Dropdown(description='drug', options=('alcohol', 'marijuana', 'cocaine', 'crack', 'heroi…"
      ]
     },
     "metadata": {},
     "output_type": "display_data"
    },
    {
     "data": {
      "text/plain": [
       "<function Python_kitchen_tools.drug_plot(drug='alcohol', drug_use=      age     n  alcohol-use  alcohol-frequency  marijuana-use  \\\n",
       "0      12  2798          3.9                3.0            1.1   \n",
       "1      13  2757          8.5                6.0            3.4   \n",
       "2      14  2792         18.1                5.0            8.7   \n",
       "3      15  2956         29.2                6.0           14.5   \n",
       "4      16  3058         40.1               10.0           22.5   \n",
       "5      17  3038         49.3               13.0           28.0   \n",
       "6      18  2469         58.7               24.0           33.7   \n",
       "7      19  2223         64.6               36.0           33.4   \n",
       "8      20  2271         69.7               48.0           34.0   \n",
       "9      21  2354         83.2               52.0           33.0   \n",
       "10  22-23  4707         84.2               52.0           28.4   \n",
       "11  24-25  4591         83.1               52.0           24.9   \n",
       "12  26-29  2628         80.7               52.0           20.8   \n",
       "13  30-34  2864         77.5               52.0           16.4   \n",
       "14  35-49  7391         75.0               52.0           10.4   \n",
       "15  50-64  3923         67.2               52.0            7.3   \n",
       "16    65+  2448         49.3               52.0            1.2   \n",
       "\n",
       "    marijuana-frequency  cocaine-use  cocaine-frequency  crack-use  \\\n",
       "0                   4.0          0.1                5.0        0.0   \n",
       "1                  15.0          0.1                1.0        0.0   \n",
       "2                  24.0          0.1                5.5        0.0   \n",
       "3                  25.0          0.5                4.0        0.1   \n",
       "4                  30.0          1.0                7.0        0.0   \n",
       "5                  36.0          2.0                5.0        0.1   \n",
       "6                  52.0          3.2                5.0        0.4   \n",
       "7                  60.0          4.1                5.5        0.5   \n",
       "8                  60.0          4.9                8.0        0.6   \n",
       "9                  52.0          4.8                5.0        0.5   \n",
       "10                 52.0          4.5                5.0        0.5   \n",
       "11                 60.0          4.0                6.0        0.5   \n",
       "12                 52.0          3.2                5.0        0.4   \n",
       "13                 72.0          2.1                8.0        0.5   \n",
       "14                 48.0          1.5               15.0        0.5   \n",
       "15                 52.0          0.9               36.0        0.4   \n",
       "16                 36.0          0.0                NaN        0.0   \n",
       "\n",
       "    crack-frequency  ...  oxycontin-use  oxycontin-frequency  \\\n",
       "0               NaN  ...            0.1                 24.5   \n",
       "1               3.0  ...            0.1                 41.0   \n",
       "2               NaN  ...            0.4                  4.5   \n",
       "3               9.5  ...            0.8                  3.0   \n",
       "4               1.0  ...            1.1                  4.0   \n",
       "5              21.0  ...            1.4                  6.0   \n",
       "6              10.0  ...            1.7                  7.0   \n",
       "7               2.0  ...            1.5                  7.5   \n",
       "8               5.0  ...            1.7                 12.0   \n",
       "9              17.0  ...            1.3                 13.5   \n",
       "10              5.0  ...            1.7                 17.5   \n",
       "11              6.0  ...            1.3                 20.0   \n",
       "12              6.0  ...            1.2                 13.5   \n",
       "13             15.0  ...            0.9                 46.0   \n",
       "14             48.0  ...            0.3                 12.0   \n",
       "15             62.0  ...            0.4                  5.0   \n",
       "16              NaN  ...            0.0                  NaN   \n",
       "\n",
       "    tranquilizer-use  tranquilizer-frequency  stimulant-use  \\\n",
       "0                0.2                    52.0            0.2   \n",
       "1                0.3                    25.5            0.3   \n",
       "2                0.9                     5.0            0.8   \n",
       "3                2.0                     4.5            1.5   \n",
       "4                2.4                    11.0            1.8   \n",
       "5                3.5                     7.0            2.8   \n",
       "6                4.9                    12.0            3.0   \n",
       "7                4.2                     4.5            3.3   \n",
       "8                5.4                    10.0            4.0   \n",
       "9                3.9                     7.0            4.1   \n",
       "10               4.4                    12.0            3.6   \n",
       "11               4.3                    10.0            2.6   \n",
       "12               4.2                    10.0            2.3   \n",
       "13               3.6                     8.0            1.4   \n",
       "14               1.9                     6.0            0.6   \n",
       "15               1.4                    10.0            0.3   \n",
       "16               0.2                     5.0            0.0   \n",
       "\n",
       "    stimulant-frequency  meth-use  meth-frequency  sedative-use  \\\n",
       "0                   2.0       0.0             NaN           0.2   \n",
       "1                   4.0       0.1             5.0           0.1   \n",
       "2                  12.0       0.1            24.0           0.2   \n",
       "3                   6.0       0.3            10.5           0.4   \n",
       "4                   9.5       0.3            36.0           0.2   \n",
       "5                   9.0       0.6            48.0           0.5   \n",
       "6                   8.0       0.5            12.0           0.4   \n",
       "7                   6.0       0.4           105.0           0.3   \n",
       "8                  12.0       0.9            12.0           0.5   \n",
       "9                  10.0       0.6             2.0           0.3   \n",
       "10                 10.0       0.6            46.0           0.2   \n",
       "11                 10.0       0.7            21.0           0.2   \n",
       "12                  7.0       0.6            30.0           0.4   \n",
       "13                 12.0       0.4            54.0           0.4   \n",
       "14                 24.0       0.2           104.0           0.3   \n",
       "15                 24.0       0.2            30.0           0.2   \n",
       "16                364.0       0.0             NaN           0.0   \n",
       "\n",
       "    sedative-frequency  \n",
       "0                 13.0  \n",
       "1                 19.0  \n",
       "2                 16.5  \n",
       "3                 30.0  \n",
       "4                  3.0  \n",
       "5                  6.5  \n",
       "6                 10.0  \n",
       "7                  6.0  \n",
       "8                  4.0  \n",
       "9                  9.0  \n",
       "10                52.0  \n",
       "11                17.5  \n",
       "12                 4.0  \n",
       "13                10.0  \n",
       "14                10.0  \n",
       "15               104.0  \n",
       "16                15.0  \n",
       "\n",
       "[17 rows x 28 columns])>"
      ]
     },
     "execution_count": 9,
     "metadata": {},
     "output_type": "execute_result"
    }
   ],
   "source": [
    "interact(drug_plot, drug = drugs,drug_use = fixed(drug_use))"
   ]
  },
  {
   "cell_type": "code",
   "execution_count": 19,
   "metadata": {
    "slideshow": {
     "slide_type": "skip"
    }
   },
   "outputs": [],
   "source": [
    "# import word list\n",
    "# http = urllib3.PoolManager(cert_reqs='CERT_REQUIRED',ca_certs=certifi.where())\n",
    "# target_url = \"https://raw.githubusercontent.com/dwyl/english-words/master/words_alpha.txt\"\n",
    "# r = http.request('GET',target_url)\n",
    "# wordlist = str(r.data.decode('utf-8')).split('\\r\\n')\n",
    "\n",
    "with open('dictionary','rb') as file:\n",
    "    wordlist = set(pickle.load(file))"
   ]
  },
  {
   "cell_type": "code",
   "execution_count": 20,
   "metadata": {
    "slideshow": {
     "slide_type": "skip"
    }
   },
   "outputs": [
    {
     "data": {
      "text/markdown": [
       "**bold**"
      ],
      "text/plain": [
       "<IPython.core.display.Markdown object>"
      ]
     },
     "metadata": {},
     "output_type": "display_data"
    }
   ],
   "source": [
    "import string\n",
    "alphabet = string.ascii_letters\n",
    "alphaset = set(alphabet)\n",
    "from IPython.display import Markdown, display, HTML\n",
    "def printmd(string):\n",
    "    display(Markdown(string))\n",
    "printmd('**bold**')\n",
    "\n",
    "def printhtml(string):\n",
    "    display(HTML(string))\n",
    "\n",
    "moss_vid = '<center><iframe width=\"560\" height=\"315\" src=\"https://www.youtube.com/embed/g9ixvD0_CmM?rel=0&amp;start=15\" frameborder=\"0\" allow=\"autoplay; encrypted-media\" allowfullscreen></iframe><?center>'\n",
    "def play_moss():\n",
    "    printhtml(moss_vid)"
   ]
  },
  {
   "cell_type": "code",
   "execution_count": 21,
   "metadata": {
    "slideshow": {
     "slide_type": "skip"
    }
   },
   "outputs": [
    {
     "name": "stdout",
     "output_type": "stream",
     "text": [
      "\"abed\" is a word\n"
     ]
    }
   ],
   "source": [
    "### Here we make a function that tells us whether or not its an english word\n",
    "\n",
    "english_words = set(word.strip().lower() for word in wordlist)\n",
    "def is_english_word(word):\n",
    "    \n",
    "    if word.lower() in english_words:\n",
    "        print('\"'+word + '\" is a word')\n",
    "        return \n",
    "        \n",
    "   \n",
    "    else:\n",
    "        return\n",
    "\n",
    "is_english_word('abed')"
   ]
  },
  {
   "cell_type": "code",
   "execution_count": 22,
   "metadata": {
    "slideshow": {
     "slide_type": "skip"
    }
   },
   "outputs": [],
   "source": [
    "from ipywidgets import widgets, HBox, VBox, Layout\n",
    "class countbutton(widgets.Button):\n",
    "    def __init__(self,*args,**kwargs):\n",
    "        super(countbutton, self).__init__(*args, **kwargs)\n",
    "        self.countnum = 0 #adding an attribute to keep count of shit\n",
    "    def getcount():\n",
    "        return self.countnum"
   ]
  },
  {
   "cell_type": "code",
   "execution_count": 14,
   "metadata": {
    "slideshow": {
     "slide_type": "skip"
    }
   },
   "outputs": [],
   "source": [
    "from numpy import random\n",
    "def countdown(teamname, num = 9): #note max number of teams 5 atm\n",
    "    i = 0\n",
    "    out = ''\n",
    "    vow = ['a','e','i','o','u','y']\n",
    "    con = ['B','C','D','F','G','H','J','K','L','M','N','P','Q','R','S','t','v','x','z','w']\n",
    "    from random import shuffle\n",
    "    shuffle(teamname)\n",
    "    teamnamelist = teamname*num\n",
    "    teamnamelist = teamnamelist[0:num+1]\n",
    "    teamnamelist.append('Ready to play Letters/Countdown?')\n",
    "    # make the layout of the game\n",
    "    \n",
    "    vow_lay = Layout(width = '33%', height = \"100px\")\n",
    "    vowels = countbutton(description = 'vowels', layout = vow_lay)\n",
    "    def restylebutton(b, col = 'blue'):\n",
    "        b.button_style = 'success'\n",
    "        b.style.button_color = col\n",
    "    restylebutton(vowels)\n",
    "    consonants = countbutton(description = 'consonants', layout = vow_lay)\n",
    "    restylebutton(consonants)\n",
    "    emptybox = widgets.Button(description = '', layout = vow_lay)\n",
    "    emptybox.style.button_color = 'lightblue'\n",
    "    emptybox.button_color = 'lightblue'\n",
    "    \n",
    "    def make_letterbox():\n",
    "        letterbox = widgets.Button(description = '', layout = Layout(height = '100px'))\n",
    "        letterbox.button_color = 'lightblue'\n",
    "        return letterbox\n",
    "    letterboxes = []\n",
    "    for t in range(0,num):\n",
    "        box = make_letterbox()\n",
    "        letterboxes.append(box)\n",
    "\n",
    "    titlebox = widgets.HTML()\n",
    "    titlebox.value = '<h1>'+teamnamelist[0]+' Choose a Consonant or a Vowel</h1>'\n",
    "    #restylebutton(titlebox, col = 'lightblue')\n",
    "    titlebox.layout.width ='100%'\n",
    "    titlebox.layout.height = '100px'\n",
    "    top_box = HBox([titlebox])\n",
    "    middle_box = HBox([vowels,emptybox,consonants])\n",
    "    \n",
    "    low_box = HBox(letterboxes)\n",
    "    \n",
    "\n",
    "\n",
    "    \n",
    "    #return outbox, letterboxes, titlebox\n",
    "    \n",
    "    \n",
    "    def vowelclick(b,cb = consonants):\n",
    "        i = b.countnum\n",
    "        inde = random.randint(0,(len(vow)-1))\n",
    "        out = vow[inde]\n",
    "        restylebutton(letterboxes[i])\n",
    "        letterboxes[i].description = out.upper()\n",
    "        i = i+1\n",
    "        b.countnum = i\n",
    "        cb.countnum = i\n",
    "        if i <= num-1:\n",
    "            titlebox.value = '<h1>'+teamnamelist[i] +' Choose a Consonant or a Vowel</h1>'\n",
    "        else:\n",
    "            titlebox.value = \"<h1>We are ready to play the game!</h1>\"\n",
    "            #titlebox.on_click(playclick)\n",
    "        return\n",
    "\n",
    "    def conclick(b,vb = vowels):\n",
    "        i = b.countnum\n",
    "        inde = random.randint(0,(len(con)-1))\n",
    "        out = con[inde]\n",
    "        restylebutton(letterboxes[i])\n",
    "        letterboxes[i].description = out.upper()\n",
    "        i = i+1\n",
    "        b.countnum = i\n",
    "        vb.countnum = i\n",
    "        \n",
    "        if i <= num-1:\n",
    "            titlebox.value = '<h1>'+teamnamelist[i] +' Choose a Consonant or a Vowel</h1>'\n",
    "        else:\n",
    "            titlebox.value = \"<h1>We are ready to play the game!</h1>\"\n",
    "            #titlebox.on_click(playclick)\n",
    "        return\n",
    "    \n",
    "    vowels.on_click(vowelclick)\n",
    "    consonants.on_click(conclick)\n",
    "    \n",
    "    outbox = VBox([top_box,middle_box,low_box])\n",
    "    VBox.Layout = Layout(height='400px')\n",
    "    return outbox, letterboxes\n",
    "    \n",
    "    \n",
    "def playclick(lb):\n",
    "        youtube = '<center><iframe width=\"560\" height=\"315\" src=\"https://www.youtube.com/embed/2JVwo3D72cc?rel=0&amp\" frameborder=\"0\" allow=\"autoplay; encrypted-media\" allowfullscreen></iframe></center>'\n",
    "        vidbox = widgets.HTML(value = youtube, placeholder = '<h1>youtube disabled</h1>')\n",
    "        top_box = HBox([vidbox])\n",
    "        top_box_layout = Layout(height = '60%', align_items='stretch')\n",
    "        top_box.Layout = top_box_layout\n",
    "        lowbox = HBox(lb)\n",
    "        lowbox_box_layout = Layout(height = '40%')\n",
    "        lowbox.Layout = lowbox_box_layout\n",
    "        container = VBox([top_box,lowbox])\n",
    "        display(container)\n",
    "\n",
    "\n",
    "        return\n",
    "        \n",
    "    \n",
    "        \n",
    "            \n",
    "            "
   ]
  },
  {
   "cell_type": "code",
   "execution_count": 25,
   "metadata": {
    "slideshow": {
     "slide_type": "skip"
    }
   },
   "outputs": [
    {
     "data": {
      "application/vnd.jupyter.widget-view+json": {
       "model_id": "a5b3c94f43d6456ea18d41f1dc0e9fce",
       "version_major": 2,
       "version_minor": 0
      },
      "text/html": [
       "<p>Failed to display Jupyter Widget of type <code>VBox</code>.</p>\n",
       "<p>\n",
       "  If you're reading this message in the Jupyter Notebook or JupyterLab Notebook, it may mean\n",
       "  that the widgets JavaScript is still loading. If this message persists, it\n",
       "  likely means that the widgets JavaScript library is either not installed or\n",
       "  not enabled. See the <a href=\"https://ipywidgets.readthedocs.io/en/stable/user_install.html\">Jupyter\n",
       "  Widgets Documentation</a> for setup instructions.\n",
       "</p>\n",
       "<p>\n",
       "  If you're reading this message in another frontend (for example, a static\n",
       "  rendering on GitHub or <a href=\"https://nbviewer.jupyter.org/\">NBViewer</a>),\n",
       "  it may mean that your frontend doesn't currently support widgets.\n",
       "</p>\n"
      ],
      "text/plain": [
       "VBox(children=(HBox(children=(HTML(value='<h1>team2 Choose a Consonant or a Vowel</h1>', layout=Layout(height='100px', width='100%')),)), HBox(children=(countbutton(button_style='success', description='vowels', layout=Layout(height='100px', width='33%'), style=ButtonStyle(button_color='blue')), Button(layout=Layout(height='100px', width='33%'), style=ButtonStyle(button_color='lightblue')), countbutton(button_style='success', description='consonants', layout=Layout(height='100px', width='33%'), style=ButtonStyle(button_color='blue')))), HBox(children=(Button(layout=Layout(height='100px'), style=ButtonStyle()), Button(layout=Layout(height='100px'), style=ButtonStyle()), Button(layout=Layout(height='100px'), style=ButtonStyle()), Button(layout=Layout(height='100px'), style=ButtonStyle()), Button(layout=Layout(height='100px'), style=ButtonStyle()), Button(layout=Layout(height='100px'), style=ButtonStyle()), Button(layout=Layout(height='100px'), style=ButtonStyle()), Button(layout=Layout(height='100px'), style=ButtonStyle()), Button(layout=Layout(height='100px'), style=ButtonStyle())))))"
      ]
     },
     "metadata": {},
     "output_type": "display_data"
    }
   ],
   "source": [
    "w,lb = countdown(teamname=['team1','team2'], num = 9)\n",
    "display(w)"
   ]
  },
  {
   "cell_type": "code",
   "execution_count": null,
   "metadata": {
    "slideshow": {
     "slide_type": "skip"
    }
   },
   "outputs": [],
   "source": []
  },
  {
   "cell_type": "code",
   "execution_count": null,
   "metadata": {
    "slideshow": {
     "slide_type": "skip"
    }
   },
   "outputs": [],
   "source": []
  },
  {
   "cell_type": "code",
   "execution_count": 26,
   "metadata": {
    "slideshow": {
     "slide_type": "skip"
    }
   },
   "outputs": [],
   "source": [
    "def string_combos(string):\n",
    "    num = len(string)\n",
    "    ans = list()\n",
    "    for t in range(0,num):\n",
    "        num2 = num-t\n",
    "        itr1 = itertools.permutations(string,num2)\n",
    "        for itr in itr1:\n",
    "            wrd = ''.join(itr)\n",
    "            ans.append(wrd)\n",
    "    return ans"
   ]
  },
  {
   "cell_type": "code",
   "execution_count": 27,
   "metadata": {
    "slideshow": {
     "slide_type": "skip"
    }
   },
   "outputs": [],
   "source": [
    "def all_words(letters, alphaset=alphaset, num=9):\n",
    "    if type(letters) is list:\n",
    "        letters = letters[0]\n",
    "    if type(letters) is not str:\n",
    "        printmd('<span style=\"color:red\">**Woah there Mates!**, you have input something that is not a string!  \\n **A Suggestion:** We should make sure that our input is text ok?</span>')\n",
    "        return\n",
    "    if any(char not in alphaset for char in letters) is True:\n",
    "        printmd('<span style=\"color:red\">**Woah there Mates!**, you have input some funky looking letters!  \\n **A Suggestion:**  make sure you do not have any special characters or spaces in your input ok?</span>')\n",
    "        return\n",
    "    if len(letters) > num:\n",
    "        printmd('<span style=\"color:red\">**Woah there Mates!**, That string is a bit long  \\n **A Suggestion:**  make sure you only have 9 letters ok?</span>')\n",
    "        return\n",
    "    l_comb = string_combos(letters)\n",
    "\n",
    "    for comb in l_comb:\n",
    "        is_english_word(comb)"
   ]
  },
  {
   "cell_type": "code",
   "execution_count": 28,
   "metadata": {
    "slideshow": {
     "slide_type": "skip"
    }
   },
   "outputs": [
    {
     "data": {
      "text/markdown": [
       "<span style=\"color:red\">**Woah there Mates!**, That string is a bit long  \n",
       " **A Suggestion:**  make sure you only have 9 letters ok?</span>"
      ],
      "text/plain": [
       "<IPython.core.display.Markdown object>"
      ]
     },
     "metadata": {},
     "output_type": "display_data"
    }
   ],
   "source": [
    "all_words(['sadasdfsdfsdf'])"
   ]
  },
  {
   "cell_type": "markdown",
   "metadata": {
    "slideshow": {
     "slide_type": "slide"
    }
   },
   "source": [
    "<h1><center>Whython? Python!</center></h1>"
   ]
  },
  {
   "cell_type": "markdown",
   "metadata": {
    "slideshow": {
     "slide_type": "slide"
    }
   },
   "source": [
    "<h1><center>Why Code?</center></h1>"
   ]
  },
  {
   "cell_type": "markdown",
   "metadata": {
    "slideshow": {
     "slide_type": "fragment"
    }
   },
   "source": [
    "###           - All Researchers are data scientists"
   ]
  },
  {
   "cell_type": "markdown",
   "metadata": {
    "slideshow": {
     "slide_type": "fragment"
    }
   },
   "source": [
    "###           - You can go from months to minutes by automating the boring stuff"
   ]
  },
  {
   "cell_type": "markdown",
   "metadata": {
    "slideshow": {
     "slide_type": "fragment"
    }
   },
   "source": [
    "###           - It leaves a readable list of instructions describing your analysis"
   ]
  },
  {
   "cell_type": "markdown",
   "metadata": {
    "slideshow": {
     "slide_type": "slide"
    }
   },
   "source": [
    "### Turn This\n",
    "<img src=\"imbedded_pics\\hell_ss.gif\" alt=\"dr_evil\" style=\"width:auto;height:60vh\">"
   ]
  },
  {
   "cell_type": "code",
   "execution_count": 50,
   "metadata": {
    "scrolled": true,
    "slideshow": {
     "slide_type": "slide"
    }
   },
   "outputs": [
    {
     "data": {
      "application/vnd.jupyter.widget-view+json": {
       "model_id": "41e3a887d29a464eb535c459a7d67159",
       "version_major": 2,
       "version_minor": 0
      },
      "text/html": [
       "<p>Failed to display Jupyter Widget of type <code>interactive</code>.</p>\n",
       "<p>\n",
       "  If you're reading this message in the Jupyter Notebook or JupyterLab Notebook, it may mean\n",
       "  that the widgets JavaScript is still loading. If this message persists, it\n",
       "  likely means that the widgets JavaScript library is either not installed or\n",
       "  not enabled. See the <a href=\"https://ipywidgets.readthedocs.io/en/stable/user_install.html\">Jupyter\n",
       "  Widgets Documentation</a> for setup instructions.\n",
       "</p>\n",
       "<p>\n",
       "  If you're reading this message in another frontend (for example, a static\n",
       "  rendering on GitHub or <a href=\"https://nbviewer.jupyter.org/\">NBViewer</a>),\n",
       "  it may mean that your frontend doesn't currently support widgets.\n",
       "</p>\n"
      ],
      "text/plain": [
       "interactive(children=(Dropdown(description='drug', options=('alcohol', 'marijuana', 'cocaine', 'crack', 'heroin', 'hallucinogen', 'inhalant', 'pain-releiver', 'oxycontin', 'tranquilizer', 'stimulant', 'meth', 'sedative'), value='alcohol'), Output()), _dom_classes=('widget-interact',))"
      ]
     },
     "metadata": {},
     "output_type": "display_data"
    },
    {
     "data": {
      "text/plain": [
       "<function Python_kitchen_tools.drug_plot>"
      ]
     },
     "execution_count": 50,
     "metadata": {},
     "output_type": "execute_result"
    }
   ],
   "source": [
    "interact(drug_plot, drug = drugs,drug_use = fixed(drug_use))"
   ]
  },
  {
   "attachments": {
    "image.png": {
     "image/png": "[encoded data removed]"
    }
   },
   "cell_type": "markdown",
   "metadata": {
    "slideshow": {
     "slide_type": "slide"
    }
   },
   "source": [
    "# You already know how to Code!\n",
    "\n",
    "\n",
    "\n",
    "![image.png](attachment:image.png)\n"
   ]
  },
  {
   "cell_type": "code",
   "execution_count": null,
   "metadata": {
    "slideshow": {
     "slide_type": "fragment"
    }
   },
   "outputs": [],
   "source": [
    "# Calculating a mean in Python\n",
    "b = [1,2,3]\n",
    "np.mean(b)  #a function that calculates the mean"
   ]
  },
  {
   "cell_type": "markdown",
   "metadata": {
    "slideshow": {
     "slide_type": "slide"
    }
   },
   "source": [
    "## Why Python?"
   ]
  },
  {
   "cell_type": "markdown",
   "metadata": {
    "slideshow": {
     "slide_type": "slide"
    }
   },
   "source": [
    "### Open Source General Purpose Programming Language\n",
    "\n",
    "\n",
    "\n",
    "\n"
   ]
  },
  {
   "cell_type": "markdown",
   "metadata": {
    "slideshow": {
     "slide_type": "fragment"
    }
   },
   "source": [
    "#### Some Python Powered Programs:\n",
    "<img src=\"imbedded_pics\\ppp.png\" alt=\"dr_evil\" style=\"width:auto;height:55vh\">"
   ]
  },
  {
   "cell_type": "markdown",
   "metadata": {
    "slideshow": {
     "slide_type": "slide"
    }
   },
   "source": [
    "### With a side of Data science\n",
    "\n"
   ]
  },
  {
   "cell_type": "markdown",
   "metadata": {
    "slideshow": {
     "slide_type": "fragment"
    }
   },
   "source": [
    "#### Replacements for R and MATLAB:\n",
    "\n",
    "<img src=\"imbedded_pics\\PP packages.png\" alt=\"dr_evil\" style=\"width:auto;height:55vh\">"
   ]
  },
  {
   "cell_type": "markdown",
   "metadata": {
    "slideshow": {
     "slide_type": "slide"
    }
   },
   "source": [
    "<img src=\"imbedded_pics\\HP_title-01.png\" alt=\"dr_evil\" style=\"width:auto;height:60vh\">"
   ]
  },
  {
   "cell_type": "markdown",
   "metadata": {
    "slideshow": {
     "slide_type": "slide"
    }
   },
   "source": [
    "<center><img src=\"imbedded_pics\\HP_hc_old_2.jpg\" alt=\"dr_evil\" style=\"width:auto;height:70vh\"></center>"
   ]
  },
  {
   "cell_type": "markdown",
   "metadata": {
    "slideshow": {
     "slide_type": "slide"
    }
   },
   "source": [
    "## But what can you do with it?"
   ]
  },
  {
   "cell_type": "markdown",
   "metadata": {
    "slideshow": {
     "slide_type": "fragment"
    }
   },
   "source": [
    "- Do advanced text analysis with linguistic libraries"
   ]
  },
  {
   "cell_type": "markdown",
   "metadata": {
    "slideshow": {
     "slide_type": "fragment"
    }
   },
   "source": [
    "- Scrape the internet for data"
   ]
  },
  {
   "cell_type": "markdown",
   "metadata": {
    "slideshow": {
     "slide_type": "fragment"
    }
   },
   "source": [
    "- Automate the boring stuff by reorganizing files and spreadsheets"
   ]
  },
  {
   "cell_type": "markdown",
   "metadata": {
    "slideshow": {
     "slide_type": "fragment"
    }
   },
   "source": [
    "- Do most of what MATLAB and R can do, along with interacting with those programs and other"
   ]
  },
  {
   "cell_type": "markdown",
   "metadata": {
    "slideshow": {
     "slide_type": "slide"
    }
   },
   "source": [
    "## Instead we will play the Letters game from Letters and Numbers (Or Countdown)\n",
    "\n",
    "### The task: Make the longest word out of nine randomly picked letters"
   ]
  },
  {
   "cell_type": "code",
   "execution_count": 29,
   "metadata": {
    "slideshow": {
     "slide_type": "slide"
    }
   },
   "outputs": [
    {
     "data": {
      "text/html": [
       "<center><iframe width=\"560\" height=\"315\" src=\"https://www.youtube.com/embed/g9ixvD0_CmM?rel=0&amp;start=15\" frameborder=\"0\" allow=\"autoplay; encrypted-media\" allowfullscreen></iframe><?center>"
      ],
      "text/plain": [
       "<IPython.core.display.HTML object>"
      ]
     },
     "metadata": {},
     "output_type": "display_data"
    }
   ],
   "source": [
    "play_moss()"
   ]
  },
  {
   "attachments": {
    "image.png": {
     "image/png": "[encoded data removed]"
    }
   },
   "cell_type": "markdown",
   "metadata": {
    "slideshow": {
     "slide_type": "slide"
    }
   },
   "source": [
    "# You already know how to Code!\n",
    "\n",
    "\n",
    "\n",
    "![image.png](attachment:image.png)\n"
   ]
  },
  {
   "cell_type": "code",
   "execution_count": null,
   "metadata": {
    "slideshow": {
     "slide_type": "fragment"
    }
   },
   "outputs": [],
   "source": [
    "# Calculating a mean in Python\n",
    "b = [1,2,3]\n",
    "np.mean(b)  #a function that calculates the mean\n",
    "\n",
    "\n"
   ]
  },
  {
   "cell_type": "markdown",
   "metadata": {
    "slideshow": {
     "slide_type": "slide"
    }
   },
   "source": [
    "### So what are we doing  here?"
   ]
  },
  {
   "cell_type": "markdown",
   "metadata": {
    "collapsed": true,
    "slideshow": {
     "slide_type": "fragment"
    }
   },
   "source": [
    "## Our Python Interpreter is like a well behaved dog\n",
    "\n",
    "![a dog](http://janfennellthedoglistener.com/static/cms/ConfusedDog.png \"When you try to give you computer human words\")"
   ]
  },
  {
   "cell_type": "markdown",
   "metadata": {
    "collapsed": true,
    "slideshow": {
     "slide_type": "slide"
    }
   },
   "source": [
    "## Scripting is just giving this dog a list of instructions, much like a recipe\n",
    "\n",
    "\n",
    "<center><img src=\"imbedded_pics\\puppy-chefs.jpg\" alt=\"dr_evil\" style=\"width:auto;height:70vh\"></center>\n"
   ]
  },
  {
   "cell_type": "markdown",
   "metadata": {
    "slideshow": {
     "slide_type": "slide"
    }
   },
   "source": [
    "### Like all recipes we just need our python scripts to be"
   ]
  },
  {
   "cell_type": "markdown",
   "metadata": {
    "slideshow": {
     "slide_type": "fragment"
    }
   },
   "source": [
    "- In a logical order"
   ]
  },
  {
   "cell_type": "markdown",
   "metadata": {
    "slideshow": {
     "slide_type": "fragment"
    }
   },
   "source": [
    "- written in commands our dog understands"
   ]
  },
  {
   "cell_type": "markdown",
   "metadata": {
    "slideshow": {
     "slide_type": "slide"
    }
   },
   "source": [
    "### In our Py Kitchen our Data are our ingredients\n",
    "\n",
    "```python\n",
    "Data = Bread\n",
    "```\n",
    "\n",
    "<center><img src=\"imbedded_pics\\1200px-Anadama_bread_(1).jpg\" alt=\"dr_evil\" style=\"width:auto;height:70vh\"></center>\n"
   ]
  },
  {
   "cell_type": "markdown",
   "metadata": {
    "slideshow": {
     "slide_type": "slide"
    }
   },
   "source": [
    "### And functions are like kitchen tools"
   ]
  },
  {
   "cell_type": "code",
   "execution_count": 30,
   "metadata": {
    "slideshow": {
     "slide_type": "fragment"
    }
   },
   "outputs": [
    {
     "data": {
      "text/markdown": [
       "<img src=\"imbedded_pics\\happytoast.jpg\" alt=\"dr_evil\" style=\"width:auto;height:60vh\">"
      ],
      "text/plain": [
       "<IPython.core.display.Markdown object>"
      ]
     },
     "metadata": {},
     "output_type": "display_data"
    }
   ],
   "source": [
    "from Python_kitchen_tools import Toaster\n",
    "\n",
    "data = 'Bread'\n",
    "Toast = Toaster(data)"
   ]
  },
  {
   "cell_type": "code",
   "execution_count": null,
   "metadata": {
    "slideshow": {
     "slide_type": "slide"
    }
   },
   "outputs": [],
   "source": [
    "# Calculating a mean in Python\n",
    "b = [1,2,3]\n",
    "np.mean(b)  #a function that calculates the mean\n",
    "\n",
    "\n"
   ]
  },
  {
   "cell_type": "markdown",
   "metadata": {
    "slideshow": {
     "slide_type": "slide"
    }
   },
   "source": [
    "## but we don't want numbers, we want Letters right? \n",
    "\n",
    "#### Python calls any bit of text a *String*, and it knows its a string because we put \"quotation\" marks around it\n",
    "\n",
    "\n"
   ]
  },
  {
   "cell_type": "markdown",
   "metadata": {
    "slideshow": {
     "slide_type": "slide"
    }
   },
   "source": [
    "## Kind of like Dr. Evil...\n",
    "<center><img src=\"imbedded_pics\\Dr_evil.png\" alt=\"dr_evil\" style=\"width:auto;height:70vh\"></center>"
   ]
  },
  {
   "cell_type": "code",
   "execution_count": 31,
   "metadata": {
    "slideshow": {
     "slide_type": "slide"
    }
   },
   "outputs": [
    {
     "data": {
      "text/plain": [
       "'This'"
      ]
     },
     "execution_count": 31,
     "metadata": {},
     "output_type": "execute_result"
    }
   ],
   "source": [
    "\"This\"\n"
   ]
  },
  {
   "cell_type": "code",
   "execution_count": 32,
   "metadata": {
    "slideshow": {
     "slide_type": "fragment"
    }
   },
   "outputs": [
    {
     "data": {
      "text/plain": [
       "'abcd\"\"891 '"
      ]
     },
     "execution_count": 32,
     "metadata": {},
     "output_type": "execute_result"
    }
   ],
   "source": [
    "'abcd\"\"891 '\n"
   ]
  },
  {
   "cell_type": "markdown",
   "metadata": {
    "slideshow": {
     "slide_type": "slide"
    }
   },
   "source": [
    "### But what if we want to use this text again?\n",
    "\n",
    "#### if only we could *assign*  our string a nickname...... It'd be pretty Australian!!\n",
    "\n"
   ]
  },
  {
   "cell_type": "markdown",
   "metadata": {
    "slideshow": {
     "slide_type": "slide"
    }
   },
   "source": [
    "<center><img src=\"imbedded_pics\\Aussie_slang.png\" alt=\"aus_slang\" style=\"width:auto;height:70vh\"></center>"
   ]
  },
  {
   "cell_type": "code",
   "execution_count": 33,
   "metadata": {
    "slideshow": {
     "slide_type": "slide"
    }
   },
   "outputs": [],
   "source": [
    "Garbo = 'Jonathan Lloyd Garber'"
   ]
  },
  {
   "cell_type": "code",
   "execution_count": 34,
   "metadata": {
    "slideshow": {
     "slide_type": "fragment"
    }
   },
   "outputs": [
    {
     "data": {
      "text/plain": [
       "'Jonathan Lloyd Garber'"
      ]
     },
     "execution_count": 34,
     "metadata": {},
     "output_type": "execute_result"
    }
   ],
   "source": [
    "Garbo"
   ]
  },
  {
   "cell_type": "code",
   "execution_count": 35,
   "metadata": {
    "slideshow": {
     "slide_type": "fragment"
    }
   },
   "outputs": [
    {
     "data": {
      "text/plain": [
       "'abcde'"
      ]
     },
     "execution_count": 35,
     "metadata": {},
     "output_type": "execute_result"
    }
   ],
   "source": [
    "L = 'abcde'\n",
    "L"
   ]
  },
  {
   "cell_type": "markdown",
   "metadata": {
    "slideshow": {
     "slide_type": "slide"
    }
   },
   "source": [
    "#### Meet our magic doodad\n",
    "```python\n",
    "all_words(Letters)\n",
    "```\n",
    "**Inputs:**\n",
    "\n",
    "***Letters:*** a string of letters or a variable containing a string of letters\n",
    "\n",
    "**Outputs:**\n",
    "\n",
    "A print out of every word from longest to shortest beneath our cell of code"
   ]
  },
  {
   "cell_type": "code",
   "execution_count": 51,
   "metadata": {
    "slideshow": {
     "slide_type": "slide"
    }
   },
   "outputs": [
    {
     "name": "stdout",
     "output_type": "stream",
     "text": [
      "\"abc\" is a word\n",
      "\"bac\" is a word\n",
      "\"cab\" is a word\n",
      "\"ab\" is a word\n",
      "\"ac\" is a word\n",
      "\"ba\" is a word\n",
      "\"ca\" is a word\n",
      "\"cb\" is a word\n",
      "\"a\" is a word\n",
      "\"b\" is a word\n",
      "\"c\" is a word\n"
     ]
    }
   ],
   "source": [
    "all_words('abc')"
   ]
  },
  {
   "cell_type": "code",
   "execution_count": 52,
   "metadata": {
    "scrolled": true,
    "slideshow": {
     "slide_type": "fragment"
    }
   },
   "outputs": [
    {
     "name": "stdout",
     "output_type": "stream",
     "text": [
      "\"abed\" is a word\n",
      "\"aced\" is a word\n",
      "\"bade\" is a word\n",
      "\"bead\" is a word\n",
      "\"cade\" is a word\n",
      "\"dace\" is a word\n",
      "\"ebcd\" is a word\n",
      "\"ecad\" is a word\n",
      "\"abc\" is a word\n",
      "\"abd\" is a word\n",
      "\"abe\" is a word\n",
      "\"ace\" is a word\n",
      "\"adc\" is a word\n",
      "\"ade\" is a word\n",
      "\"bac\" is a word\n",
      "\"bad\" is a word\n",
      "\"bae\" is a word\n",
      "\"bcd\" is a word\n",
      "\"bde\" is a word\n",
      "\"bea\" is a word\n",
      "\"bec\" is a word\n",
      "\"bed\" is a word\n",
      "\"cab\" is a word\n",
      "\"cad\" is a word\n",
      "\"dab\" is a word\n",
      "\"dae\" is a word\n",
      "\"dca\" is a word\n",
      "\"dcb\" is a word\n",
      "\"dea\" is a word\n",
      "\"deb\" is a word\n",
      "\"dec\" is a word\n",
      "\"ead\" is a word\n",
      "\"ecb\" is a word\n",
      "\"ab\" is a word\n",
      "\"ac\" is a word\n",
      "\"ad\" is a word\n",
      "\"ae\" is a word\n",
      "\"ba\" is a word\n",
      "\"bd\" is a word\n",
      "\"be\" is a word\n",
      "\"ca\" is a word\n",
      "\"cb\" is a word\n",
      "\"cd\" is a word\n",
      "\"ce\" is a word\n",
      "\"da\" is a word\n",
      "\"db\" is a word\n",
      "\"dc\" is a word\n",
      "\"de\" is a word\n",
      "\"ea\" is a word\n",
      "\"ec\" is a word\n",
      "\"ed\" is a word\n",
      "\"a\" is a word\n",
      "\"b\" is a word\n",
      "\"c\" is a word\n",
      "\"d\" is a word\n",
      "\"e\" is a word\n"
     ]
    }
   ],
   "source": [
    "all_words('abcde')"
   ]
  },
  {
   "cell_type": "markdown",
   "metadata": {
    "slideshow": {
     "slide_type": "slide"
    }
   },
   "source": [
    "### We now have the building blocks to hack Letters and Numbers\n",
    "\n",
    " 1.) enter the letters into a python cell as a *string* and *assign* them a nickname\n",
    " \n",
    " 2.) Chuck that *string* of letters into our new magic doodad - all_words() (using it's nickname maybe?)\n",
    " \n",
    " 3.) Win Letters and Numbers!\n",
    " \n"
   ]
  },
  {
   "cell_type": "markdown",
   "metadata": {
    "slideshow": {
     "slide_type": "slide"
    }
   },
   "source": [
    " #### Now try it for 'ABCDEFGHI'"
   ]
  },
  {
   "cell_type": "code",
   "execution_count": null,
   "metadata": {
    "slideshow": {
     "slide_type": "fragment"
    }
   },
   "outputs": [],
   "source": [
    "# Enter the letters into python and assign them a nickname:\n",
    "\n"
   ]
  },
  {
   "cell_type": "code",
   "execution_count": null,
   "metadata": {
    "slideshow": {
     "slide_type": "fragment"
    }
   },
   "outputs": [],
   "source": [
    "# and put that variable int our magic doodad: all_word()"
   ]
  },
  {
   "cell_type": "markdown",
   "metadata": {
    "slideshow": {
     "slide_type": "slide"
    }
   },
   "source": [
    "#### Lets play the Game show!! But first, I need team names"
   ]
  },
  {
   "cell_type": "code",
   "execution_count": 53,
   "metadata": {
    "slideshow": {
     "slide_type": "fragment"
    }
   },
   "outputs": [],
   "source": [
    "teamnames = [\"bigheads\",\"chafed\", 'The Grasshopper','Tiny Answer']"
   ]
  },
  {
   "cell_type": "code",
   "execution_count": 54,
   "metadata": {
    "slideshow": {
     "slide_type": "slide"
    }
   },
   "outputs": [
    {
     "data": {
      "application/vnd.jupyter.widget-view+json": {
       "model_id": "b3c12e1e835f4e2e9c861958eb24fbc3",
       "version_major": 2,
       "version_minor": 0
      },
      "text/html": [
       "<p>Failed to display Jupyter Widget of type <code>VBox</code>.</p>\n",
       "<p>\n",
       "  If you're reading this message in the Jupyter Notebook or JupyterLab Notebook, it may mean\n",
       "  that the widgets JavaScript is still loading. If this message persists, it\n",
       "  likely means that the widgets JavaScript library is either not installed or\n",
       "  not enabled. See the <a href=\"https://ipywidgets.readthedocs.io/en/stable/user_install.html\">Jupyter\n",
       "  Widgets Documentation</a> for setup instructions.\n",
       "</p>\n",
       "<p>\n",
       "  If you're reading this message in another frontend (for example, a static\n",
       "  rendering on GitHub or <a href=\"https://nbviewer.jupyter.org/\">NBViewer</a>),\n",
       "  it may mean that your frontend doesn't currently support widgets.\n",
       "</p>\n"
      ],
      "text/plain": [
       "VBox(children=(HBox(children=(HTML(value='<h1>The Grasshopper Choose a Consonant or a Vowel</h1>', layout=Layout(height='100px', width='100%')),)), HBox(children=(countbutton(button_style='success', description='vowels', layout=Layout(height='100px', width='33%'), style=ButtonStyle(button_color='blue')), Button(layout=Layout(height='100px', width='33%'), style=ButtonStyle(button_color='lightblue')), countbutton(button_style='success', description='consonants', layout=Layout(height='100px', width='33%'), style=ButtonStyle(button_color='blue')))), HBox(children=(Button(layout=Layout(height='100px'), style=ButtonStyle()), Button(layout=Layout(height='100px'), style=ButtonStyle()), Button(layout=Layout(height='100px'), style=ButtonStyle()), Button(layout=Layout(height='100px'), style=ButtonStyle()), Button(layout=Layout(height='100px'), style=ButtonStyle()), Button(layout=Layout(height='100px'), style=ButtonStyle()), Button(layout=Layout(height='100px'), style=ButtonStyle()), Button(layout=Layout(height='100px'), style=ButtonStyle()), Button(layout=Layout(height='100px'), style=ButtonStyle())))))"
      ]
     },
     "metadata": {},
     "output_type": "display_data"
    },
    {
     "ename": "IndexError",
     "evalue": "list index out of range",
     "output_type": "error",
     "traceback": [
      "\u001b[1;31m---------------------------------------------------------------------------\u001b[0m",
      "\u001b[1;31mIndexError\u001b[0m                                Traceback (most recent call last)",
      "\u001b[1;32m<ipython-input-24-27edf8a469b2>\u001b[0m in \u001b[0;36mvowelclick\u001b[1;34m(b, cb)\u001b[0m\n\u001b[0;32m     53\u001b[0m         \u001b[0minde\u001b[0m \u001b[1;33m=\u001b[0m \u001b[0mrandom\u001b[0m\u001b[1;33m.\u001b[0m\u001b[0mrandint\u001b[0m\u001b[1;33m(\u001b[0m\u001b[1;36m0\u001b[0m\u001b[1;33m,\u001b[0m\u001b[1;33m(\u001b[0m\u001b[0mlen\u001b[0m\u001b[1;33m(\u001b[0m\u001b[0mvow\u001b[0m\u001b[1;33m)\u001b[0m\u001b[1;33m-\u001b[0m\u001b[1;36m1\u001b[0m\u001b[1;33m)\u001b[0m\u001b[1;33m)\u001b[0m\u001b[1;33m\u001b[0m\u001b[0m\n\u001b[0;32m     54\u001b[0m         \u001b[0mout\u001b[0m \u001b[1;33m=\u001b[0m \u001b[0mvow\u001b[0m\u001b[1;33m[\u001b[0m\u001b[0minde\u001b[0m\u001b[1;33m]\u001b[0m\u001b[1;33m\u001b[0m\u001b[0m\n\u001b[1;32m---> 55\u001b[1;33m         \u001b[0mrestylebutton\u001b[0m\u001b[1;33m(\u001b[0m\u001b[0mletterboxes\u001b[0m\u001b[1;33m[\u001b[0m\u001b[0mi\u001b[0m\u001b[1;33m]\u001b[0m\u001b[1;33m)\u001b[0m\u001b[1;33m\u001b[0m\u001b[0m\n\u001b[0m\u001b[0;32m     56\u001b[0m         \u001b[0mletterboxes\u001b[0m\u001b[1;33m[\u001b[0m\u001b[0mi\u001b[0m\u001b[1;33m]\u001b[0m\u001b[1;33m.\u001b[0m\u001b[0mdescription\u001b[0m \u001b[1;33m=\u001b[0m \u001b[0mout\u001b[0m\u001b[1;33m.\u001b[0m\u001b[0mupper\u001b[0m\u001b[1;33m(\u001b[0m\u001b[1;33m)\u001b[0m\u001b[1;33m\u001b[0m\u001b[0m\n\u001b[0;32m     57\u001b[0m         \u001b[0mi\u001b[0m \u001b[1;33m=\u001b[0m \u001b[0mi\u001b[0m\u001b[1;33m+\u001b[0m\u001b[1;36m1\u001b[0m\u001b[1;33m\u001b[0m\u001b[0m\n",
      "\u001b[1;31mIndexError\u001b[0m: list index out of range"
     ]
    }
   ],
   "source": [
    "#run the countdown show\n",
    "w, lb= countdown(teamnames)\n",
    "display(w)"
   ]
  },
  {
   "cell_type": "code",
   "execution_count": 55,
   "metadata": {
    "slideshow": {
     "slide_type": "slide"
    }
   },
   "outputs": [
    {
     "data": {
      "application/vnd.jupyter.widget-view+json": {
       "model_id": "82eaaec616224f3bb4f6c3e3d040e1ab",
       "version_major": 2,
       "version_minor": 0
      },
      "text/html": [
       "<p>Failed to display Jupyter Widget of type <code>VBox</code>.</p>\n",
       "<p>\n",
       "  If you're reading this message in the Jupyter Notebook or JupyterLab Notebook, it may mean\n",
       "  that the widgets JavaScript is still loading. If this message persists, it\n",
       "  likely means that the widgets JavaScript library is either not installed or\n",
       "  not enabled. See the <a href=\"https://ipywidgets.readthedocs.io/en/stable/user_install.html\">Jupyter\n",
       "  Widgets Documentation</a> for setup instructions.\n",
       "</p>\n",
       "<p>\n",
       "  If you're reading this message in another frontend (for example, a static\n",
       "  rendering on GitHub or <a href=\"https://nbviewer.jupyter.org/\">NBViewer</a>),\n",
       "  it may mean that your frontend doesn't currently support widgets.\n",
       "</p>\n"
      ],
      "text/plain": [
       "VBox(children=(HBox(children=(HTML(value='<center><iframe width=\"560\" height=\"315\" src=\"https://www.youtube.com/embed/2JVwo3D72cc?rel=0&amp\" frameborder=\"0\" allow=\"autoplay; encrypted-media\" allowfullscreen></iframe></center>', placeholder='<h1>youtube disabled</h1>'),)), HBox(children=(Button(button_style='success', description='I', layout=Layout(height='100px'), style=ButtonStyle(button_color='blue')), Button(button_style='success', description='U', layout=Layout(height='100px'), style=ButtonStyle(button_color='blue')), Button(button_style='success', description='E', layout=Layout(height='100px'), style=ButtonStyle(button_color='blue')), Button(button_style='success', description='A', layout=Layout(height='100px'), style=ButtonStyle(button_color='blue')), Button(button_style='success', description='E', layout=Layout(height='100px'), style=ButtonStyle(button_color='blue')), Button(button_style='success', description='I', layout=Layout(height='100px'), style=ButtonStyle(button_color='blue')), Button(button_style='success', description='I', layout=Layout(height='100px'), style=ButtonStyle(button_color='blue')), Button(button_style='success', description='A', layout=Layout(height='100px'), style=ButtonStyle(button_color='blue')), Button(button_style='success', description='U', layout=Layout(height='100px'), style=ButtonStyle(button_color='blue'))))))"
      ]
     },
     "metadata": {},
     "output_type": "display_data"
    }
   ],
   "source": [
    "playclick(lb)"
   ]
  },
  {
   "cell_type": "markdown",
   "metadata": {
    "slideshow": {
     "slide_type": "slide"
    }
   },
   "source": [
    "###  So what have we learned?"
   ]
  },
  {
   "cell_type": "markdown",
   "metadata": {
    "slideshow": {
     "slide_type": "fragment"
    }
   },
   "source": [
    " - We input text data into a python program as a  \n",
    " ```python \n",
    "\"String\"\n",
    "```"
   ]
  },
  {
   "cell_type": "markdown",
   "metadata": {
    "slideshow": {
     "slide_type": "fragment"
    }
   },
   "source": [
    " - We assigned strings to a variable: \n",
    " ```python\n",
    "L = 'abcde'\n",
    "```"
   ]
  },
  {
   "cell_type": "markdown",
   "metadata": {
    "slideshow": {
     "slide_type": "slide"
    }
   },
   "source": [
    " - We input our string into a magic doodad to **WIN COUNTDOWN!!!** `all_words(L)`"
   ]
  },
  {
   "cell_type": "markdown",
   "metadata": {
    "slideshow": {
     "slide_type": "slide"
    }
   },
   "source": [
    "\n",
    "### But this reminds me of a story from home about John Henry"
   ]
  },
  {
   "cell_type": "markdown",
   "metadata": {
    "slideshow": {
     "slide_type": "fragment"
    }
   },
   "source": [
    "<center><img src=\"imbedded_pics\\John_henry1.png\" alt=\"aus_slang\" style=\"width:auto;height:60vh\"></center>"
   ]
  },
  {
   "cell_type": "markdown",
   "metadata": {
    "slideshow": {
     "slide_type": "slide"
    }
   },
   "source": [
    "<center><img src=\"imbedded_pics\\Johnhenry2.png\" alt=\"aus_slang\" style=\"width:auto;height:60vh\"></center>"
   ]
  },
  {
   "cell_type": "markdown",
   "metadata": {
    "slideshow": {
     "slide_type": "slide"
    }
   },
   "source": [
    "<center><img src=\"imbedded_pics\\JH3.png\" alt=\"aus_slang\" style=\"width:auto;height:60vh\"></center>"
   ]
  },
  {
   "cell_type": "markdown",
   "metadata": {
    "slideshow": {
     "slide_type": "slide"
    }
   },
   "source": [
    "### Python is not here to replace you"
   ]
  },
  {
   "cell_type": "markdown",
   "metadata": {
    "slideshow": {
     "slide_type": "fragment"
    }
   },
   "source": [
    "  - There is no `Research()`  or `do_my_work_for_me()` function"
   ]
  },
  {
   "cell_type": "markdown",
   "metadata": {
    "slideshow": {
     "slide_type": "fragment"
    }
   },
   "source": [
    " - But we can teach you to make your own magic doodads"
   ]
  },
  {
   "cell_type": "markdown",
   "metadata": {
    "slideshow": {
     "slide_type": "slide"
    }
   },
   "source": [
    "### Python is here to help you"
   ]
  },
  {
   "cell_type": "markdown",
   "metadata": {
    "slideshow": {
     "slide_type": "fragment"
    }
   },
   "source": [
    " - Automate and save time"
   ]
  },
  {
   "cell_type": "markdown",
   "metadata": {
    "slideshow": {
     "slide_type": "fragment"
    }
   },
   "source": [
    " - Do more advanced analysis"
   ]
  },
  {
   "cell_type": "markdown",
   "metadata": {
    "slideshow": {
     "slide_type": "fragment"
    }
   },
   "source": [
    " - Help you communicate your methods and visualize data"
   ]
  },
  {
   "cell_type": "markdown",
   "metadata": {
    "slideshow": {
     "slide_type": "slide"
    }
   },
   "source": [
    "### Leaving you more time to"
   ]
  },
  {
   "cell_type": "markdown",
   "metadata": {
    "slideshow": {
     "slide_type": "fragment"
    }
   },
   "source": [
    " - Write Papers"
   ]
  },
  {
   "cell_type": "markdown",
   "metadata": {
    "slideshow": {
     "slide_type": "fragment"
    }
   },
   "source": [
    "- Think of the next great research questions"
   ]
  },
  {
   "cell_type": "markdown",
   "metadata": {
    "slideshow": {
     "slide_type": "fragment"
    }
   },
   "source": [
    " - collect more data"
   ]
  },
  {
   "cell_type": "markdown",
   "metadata": {
    "slideshow": {
     "slide_type": "fragment"
    }
   },
   "source": [
    " - Live your **bloody life!**"
   ]
  },
  {
   "cell_type": "markdown",
   "metadata": {
    "slideshow": {
     "slide_type": "slide"
    }
   },
   "source": [
    "### So Ready to work smarter and not harder?\n",
    "<center><img src=\"imbedded_pics\\crossarms_gif.gif\" alt=\"aus_slang\" style=\"width:auto;height:60vh\"></center>"
   ]
  },
  {
   "attachments": {
    "image.png": {
     "image/png": "[encoded data removed]"
    }
   },
   "cell_type": "markdown",
   "metadata": {
    "slideshow": {
     "slide_type": "slide"
    }
   },
   "source": [
    "### Then come to Pythonista cooking class! and follow me at @GeoGarber\n",
    "\n",
    "\n",
    "![image.png](attachment:image.png)\n"
   ]
  },
  {
   "cell_type": "code",
   "execution_count": null,
   "metadata": {},
   "outputs": [],
   "source": []
  }
 ],
 "metadata": {
  "celltoolbar": "Slideshow",
  "kernelspec": {
   "display_name": "Python 3",
   "language": "python",
   "name": "python3"
  },
  "language_info": {
   "codemirror_mode": {
    "name": "ipython",
    "version": 3
   },
   "file_extension": ".py",
   "mimetype": "text/x-python",
   "name": "python",
   "nbconvert_exporter": "python",
   "pygments_lexer": "ipython3",
   "version": "3.7.3"
  }
 },
 "nbformat": 4,
 "nbformat_minor": 2
}
